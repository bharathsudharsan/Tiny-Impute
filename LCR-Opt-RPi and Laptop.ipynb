{
 "cells": [
  {
   "cell_type": "code",
   "execution_count": null,
   "id": "901f4a83",
   "metadata": {},
   "outputs": [],
   "source": [
    "import numpy as np\n",
    "import time\n",
    "import pandas"
   ]
  },
  {
   "cell_type": "code",
   "execution_count": null,
   "id": "1fd546ec",
   "metadata": {},
   "outputs": [],
   "source": [
    "def compute_mae(var, var_hat):\n",
    "    return np.sum(np.abs(var - var_hat) / var) / var.shape[0]\n",
    "\n",
    "def compute_rmse(var, var_hat):\n",
    "    return np.sqrt(np.sum((var - var_hat) ** 2) / var.shape[0])"
   ]
  },
  {
   "cell_type": "code",
   "execution_count": null,
   "id": "79b00d7c",
   "metadata": {},
   "outputs": [],
   "source": [
    "def laplacian(n, tau):\n",
    "    ell = np.zeros(n)\n",
    "    ell[0] = 2 * tau\n",
    "    for k in range(tau):\n",
    "        ell[k + 1] = -1\n",
    "        ell[-k - 1] = -1\n",
    "    return ell\n",
    "\n",
    "def prox(z, w, lmbda, denominator):\n",
    "    T = z.shape[0]\n",
    "    temp = np.fft.fft(lmbda * z - w) / denominator\n",
    "    temp1 = 1 - T / (lmbda * np.abs(temp))\n",
    "    temp1[temp1 <= 0] = 0\n",
    "    return np.fft.ifft(temp * temp1).real\n",
    "\n",
    "def update_z(y_train, pos_train, x, w, lmbda, eta):\n",
    "    z = x + w / lmbda\n",
    "    z[pos_train] = (lmbda / (lmbda + eta) * z[pos_train] \n",
    "                    + eta / (lmbda + eta) * y_train)\n",
    "    return z\n",
    "\n",
    "def update_w(x, z, w, lmbda):\n",
    "    return w + lmbda * (x - z)\n"
   ]
  },
  {
   "cell_type": "code",
   "execution_count": null,
   "id": "24ec6bbc",
   "metadata": {},
   "outputs": [],
   "source": [
    "ef LCR(y_true, y, lmbda, gamma, tau, maxiter = 50):\n",
    "    eta = 100 * lmbda\n",
    "    T = y.shape\n",
    "    pos_train = np.where(y != 0)\n",
    "    y_train = y[pos_train]\n",
    "    pos_test = np.where((y_true != 0) & (y == 0))\n",
    "    y_test = y_true[pos_test]\n",
    "    z = y.copy()\n",
    "    w = y.copy()\n",
    "    denominator = lmbda + gamma * np.fft.fft(laplacian(T, tau)) ** 2\n",
    "    T=y_true.shape[0]\n",
    "    del y_true, y\n",
    "    show_iter = 10\n",
    "    for it in range(maxiter):\n",
    "        x = prox(z, w, lmbda, denominator)\n",
    "        z = update_z(y_train, pos_train, x, w, lmbda, eta)\n",
    "        w = update_w(x, z, w, lmbda)\n",
    "    print(f'lambda: {lmbda/T}, gamma: {gamma/lmbda}, tau: {tau}')\n",
    "    print(f'MAE Accuracy: {compute_mae(y_test, x[pos_test])}')\n",
    "    print(f'RMSE Accuracy: {compute_rmse(y_test, x[pos_test])}')\n",
    "    print(round(compute_mae(y_test, x[pos_test]),5))\n",
    "    print(round(compute_rmse(y_test, x[pos_test]),5)\n",
    "    print()\n",
    "    return x"
   ]
  },
  {
   "cell_type": "code",
   "execution_count": null,
   "id": "bfe34d5a",
   "metadata": {},
   "outputs": [],
   "source": [
    "batch_size=20\n",
    "df = pandas.read_csv('dataset1.csv',nrows=batch_size)\n",
    "missing_rate = 0.20\n",
    "print('Missing rate = {}'.format(missing_rate))\n",
    "dense_mat = df.to_numpy()\n",
    "dense_vec = dense_mat[:,0]  \n",
    "T = dense_vec.shape[0]\n",
    "np.random.seed(1)\n",
    "sparse_vec = dense_vec * np.round(np.random.rand(T) + 0.5 - missing_rate)\n",
    "start_time = time.time()\n",
    "lmbda = 5e-1 * T\n",
    "gamma = 3 * lmbda\n",
    "tau = 2\n",
    "maxiter = 100\n",
    "x = LCR(dense_vec, sparse_vec, lmbda, gamma, tau, maxiter)\n",
    "lmbda = 5e-2 * T\n",
    "gamma = 1 * lmbda\n",
    "tau = 2\n",
    "maxiter = 100\n",
    "x = LCR(dense_vec, sparse_vec, lmbda, gamma, tau, maxiter)\n",
    "print(\"--- %s seconds ---\" % (time.time() - start_time))"
   ]
  }
 ],
 "metadata": {
  "kernelspec": {
   "display_name": "Python 3 (ipykernel)",
   "language": "python",
   "name": "python3"
  },
  "language_info": {
   "codemirror_mode": {
    "name": "ipython",
    "version": 3
   },
   "file_extension": ".py",
   "mimetype": "text/x-python",
   "name": "python",
   "nbconvert_exporter": "python",
   "pygments_lexer": "ipython3",
   "version": "3.9.16"
  }
 },
 "nbformat": 4,
 "nbformat_minor": 5
}
