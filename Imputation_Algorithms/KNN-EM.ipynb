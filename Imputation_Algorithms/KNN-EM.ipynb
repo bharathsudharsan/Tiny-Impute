{
 "cells": [
  {
   "cell_type": "markdown",
   "source": [
    "## K-Nearest Neighbors with Expectation-Maximization (KNN-EM) for anomaly detection and data imputation"
   ],
   "metadata": {
    "collapsed": false,
    "pycharm": {
     "name": "#%% md\n"
    }
   }
  },
  {
   "cell_type": "code",
   "execution_count": 149,
   "outputs": [],
   "source": [
    "import random\n",
    "import os\n",
    "import time\n",
    "from typing import List, Union"
   ],
   "metadata": {
    "collapsed": false,
    "pycharm": {
     "name": "#%%\n"
    }
   }
  },
  {
   "cell_type": "code",
   "execution_count": 150,
   "outputs": [],
   "source": [
    "def read_csv(file_name: str, num_rows_to_read: Union[int, None] = None) -> List[float]:\n",
    "    \"\"\"\n",
    "    Read data from a CSV file and return it as a list of floats.\n",
    "\n",
    "    Args:\n",
    "        file_name (str): The path to the CSV file to read.\n",
    "        num_rows_to_read (int, optional): The number of rows to read from the CSV file. If None, all rows are read.\n",
    "\n",
    "    Returns:\n",
    "        List[float]: A list containing the parsed floating-point values from the CSV file.\n",
    "\n",
    "    Raises:\n",
    "        FileNotFoundError: If the specified file does not exist.\n",
    "    \"\"\"\n",
    "    data = []\n",
    "    try:\n",
    "        with open(file_name, 'r') as f:\n",
    "            lines = f.readlines()[1:]\n",
    "            for i, line in enumerate(lines):\n",
    "                if num_rows_to_read is not None and i >= num_rows_to_read:\n",
    "                    break\n",
    "                row = float(line.strip())\n",
    "                data.append(row)\n",
    "    except FileNotFoundError as e:\n",
    "        raise FileNotFoundError(f\"File not found: {file_name}\") from e\n",
    "\n",
    "    return data"
   ],
   "metadata": {
    "collapsed": false,
    "pycharm": {
     "name": "#%%\n"
    }
   }
  },
  {
   "cell_type": "code",
   "execution_count": 151,
   "id": "fabc7646",
   "metadata": {},
   "outputs": [],
   "source": [
    "def euclidean_distance(x1: float, x2: float) -> float:\n",
    "    \"\"\"\n",
    "    Calculate the Euclidean distance between two numbers.\n",
    "\n",
    "    Args:\n",
    "        x1 (float): The first number.\n",
    "        x2 (float): The second number.\n",
    "\n",
    "    Returns:\n",
    "        float: The Euclidean distance between x1 and x2.\n",
    "    \"\"\"\n",
    "    return abs(x1 - x2)\n",
    "\n",
    "def knn(data: List[float], k: int, threshold: float) -> List[float]:\n",
    "    \"\"\"\n",
    "    Find outliers in a list of data using the k-nearest neighbors (KNN) algorithm.\n",
    "\n",
    "    Args:\n",
    "        data (List[float]): The list of data points.\n",
    "        k (int): The number of nearest neighbors to consider.\n",
    "        threshold (float): The threshold value to determine outliers.\n",
    "\n",
    "    Returns:\n",
    "        List[float]: A list of outlier values.\n",
    "    \"\"\"\n",
    "    data.sort()\n",
    "    outliers = []\n",
    "    for i in range(len(data)):\n",
    "        distances = [(euclidean_distance(data[i], data[j]), j) for j in range(len(data)) if j != i]\n",
    "        distances.sort(key=lambda x: x[0])\n",
    "        if distances[k-1][0] > threshold:\n",
    "            outliers.append(data[i])\n",
    "\n",
    "    return outliers\n",
    "\n",
    "def remove_outliers(dataset: List[Union[float, None]], outliers: List[float]) -> None:\n",
    "    \"\"\"\n",
    "    Remove outliers from a dataset by replacing them with None.\n",
    "\n",
    "    Args:\n",
    "        dataset (List[Union[float, None]]): The dataset containing data points.\n",
    "        outliers (List[float]): A list of outlier values to be removed.\n",
    "    \"\"\"\n",
    "    for number in outliers:\n",
    "        while number in dataset:\n",
    "            index = dataset.index(number)\n",
    "            dataset[index] = None"
   ]
  },
  {
   "cell_type": "code",
   "execution_count": 152,
   "outputs": [],
   "source": [
    "def introduce_missingness(data: List[Union[float, None]], missingness_percentage: float) -> List[Union[float, None]]:\n",
    "    \"\"\"\n",
    "    Introduce missingness into a list of data points.\n",
    "\n",
    "    Args:\n",
    "        data (List[Union[float, None]]): The list of data points.\n",
    "        missingness_percentage (float): The percentage of data points to set as missing (None).\n",
    "\n",
    "    Returns:\n",
    "        List[Union[float, None]]: A list of data points with missing values (None).\n",
    "    \"\"\"\n",
    "    num_missing = int(len(data) * missingness_percentage / 100)\n",
    "    missing_indices = []\n",
    "    while len(missing_indices) < num_missing:\n",
    "        r = random.randint(0, len(data) - 1)\n",
    "        if r not in missing_indices:\n",
    "            missing_indices.append(r)\n",
    "    for i in missing_indices:\n",
    "        data[i] = None\n",
    "    return data"
   ],
   "metadata": {
    "collapsed": false,
    "pycharm": {
     "name": "#%%\n"
    }
   }
  },
  {
   "cell_type": "code",
   "execution_count": 153,
   "id": "aa24db14",
   "metadata": {},
   "outputs": [],
   "source": [
    "def calculate_mean_variance(data: List[Union[float, None]], weights: List[float]) -> Tuple[float, float]:\n",
    "    \"\"\"\n",
    "    Calculate the mean and variance of data points with weights.\n",
    "\n",
    "    Args:\n",
    "        data (List[Union[float, None]]): The list of data points (including missing values as None).\n",
    "        weights (List[float]): The list of weights corresponding to data points.\n",
    "\n",
    "    Returns:\n",
    "        Tuple[float, float]: A tuple containing the mean and variance of the data.\n",
    "    \"\"\"\n",
    "    n = len(data)\n",
    "    mean = sum(w * x for x, w in zip(data, weights)) / n\n",
    "    variance = sum(w * (x - mean)**2 for x, w in zip(data, weights)) / n\n",
    "    return mean, variance\n",
    "\n",
    "def em_imputation(data: List[Union[float, None]], num_iterations: int) -> List[Union[float, None]]:\n",
    "    \"\"\"\n",
    "    Perform Expectation-Maximization (EM) imputation to fill in missing values in a list of data points.\n",
    "\n",
    "    Args:\n",
    "        data (List[Union[float, None]]): The list of data points with missing values represented as None.\n",
    "        num_iterations (int): The number of EM iterations to perform.\n",
    "\n",
    "    Returns:\n",
    "        List[Union[float, None]]: A list of data points with missing values imputed.\n",
    "    \"\"\"\n",
    "    non_missing_data = [x for x in data if x is not None]\n",
    "    mean, variance = calculate_mean_variance(non_missing_data, [1] * len(non_missing_data))\n",
    "\n",
    "    for _ in range(num_iterations):\n",
    "        estimated_data = [x if x is not None else mean for x in data]\n",
    "        mean, variance = calculate_mean_variance(estimated_data, [1] * len(estimated_data))\n",
    "\n",
    "    imputed_data = [x if x is not None else mean for x in data]\n",
    "    return imputed_data"
   ]
  },
  {
   "cell_type": "code",
   "execution_count": 154,
   "id": "7b4ae742",
   "metadata": {},
   "outputs": [],
   "source": [
    "def calculate_rmse(actual: List[float], predicted: List[float]) -> float:\n",
    "    \"\"\"\n",
    "    Calculate the Root Mean Squared Error (RMSE) between actual and predicted values.\n",
    "\n",
    "    Args:\n",
    "        actual (List[float]): The list of actual values.\n",
    "        predicted (List[float]): The list of predicted values.\n",
    "\n",
    "    Returns:\n",
    "        float: The RMSE value.\n",
    "    \"\"\"\n",
    "    n = len(actual)\n",
    "    squared_errors = [(a - p) ** 2 for a, p in zip(actual, predicted)]\n",
    "    mean_squared_error = sum(squared_errors) / n\n",
    "    rmse = mean_squared_error ** 0.5\n",
    "    return rmse\n",
    "\n",
    "def calculate_mae(actual: List[float], predicted: List[float]) -> float:\n",
    "    \"\"\"\n",
    "    Calculate the Mean Absolute Error (MAE) between actual and predicted values.\n",
    "\n",
    "    Args:\n",
    "        actual (List[float]): The list of actual values.\n",
    "        predicted (List[float]): The list of predicted values.\n",
    "\n",
    "    Returns:\n",
    "        float: The MAE value.\n",
    "    \"\"\"\n",
    "    n = len(actual)\n",
    "    absolute_errors = [abs(a - p) for a, p in zip(actual, predicted)]\n",
    "    mae = sum(absolute_errors) / n\n",
    "    return mae\n"
   ]
  },
  {
   "cell_type": "code",
   "execution_count": 155,
   "id": "67282d9f",
   "metadata": {},
   "outputs": [],
   "source": [
    "# Batch size for data processing\n",
    "batch_size = 500\n",
    "\n",
    "# Percentage of missingness in the data\n",
    "missingness_percentage = 20\n",
    "\n",
    "# Number of iterations for EM imputation\n",
    "num_iterations = 50\n",
    "\n",
    "# Value of k for k-nearest neighbors\n",
    "k = 3\n",
    "\n",
    "# Threshold value for outlier detection\n",
    "threshold = 2.0"
   ]
  },
  {
   "cell_type": "code",
   "execution_count": 156,
   "outputs": [
    {
     "name": "stdout",
     "output_type": "stream",
     "text": [
      "Dataset: Daily_Sports_Activities_Sample.csv\n",
      "Execution time: 0.0 ms\n",
      "RMSE: 0.20111639185307606\n",
      "MAE: 0.17378873600000017\n",
      "==================================================\n",
      "Dataset: Gesture_Phase_Segmentation_Sample.csv\n",
      "Execution time: 16.00000000325963 ms\n",
      "RMSE: 1.779222832323865\n",
      "MAE: 1.3378243935999998\n",
      "==================================================\n",
      "Dataset: Iris_Flowers_Sample.csv\n",
      "Execution time: 0.0 ms\n",
      "RMSE: 0.684581076279501\n",
      "MAE: 0.5548555555555558\n",
      "==================================================\n",
      "Dataset: Mammographic_Mass_Sample.csv\n",
      "Execution time: 16.00000000325963 ms\n",
      "RMSE: 0.9451953869735148\n",
      "MAE: 0.670155200095142\n",
      "==================================================\n"
     ]
    }
   ],
   "source": [
    "# Path to the folder containing datasets\n",
    "dataset_folder = \"./Datasets_Sample\"\n",
    "\n",
    "# Loop through all files in the folder\n",
    "for filename in os.listdir(dataset_folder):\n",
    "    if filename.endswith(\".csv\"):\n",
    "        dataset_path = os.path.join(dataset_folder, filename)\n",
    "\n",
    "        # Load data from CSV using your custom function with specified batch size\n",
    "        original_data = read_csv(dataset_path, batch_size)\n",
    "        raw_data = original_data.copy()\n",
    "\n",
    "        # Measure the start time for execution time calculation\n",
    "        start_time = time.monotonic()\n",
    "\n",
    "        # Detect outliers using k-nearest neighbors (KNN) with specified k and threshold\n",
    "        outliers = knn(raw_data, k, threshold)\n",
    "        remove_outliers(raw_data, outliers)\n",
    "\n",
    "        # Introduce missingness into the data with specified missingness percentage\n",
    "        data_with_missingness = introduce_missingness(raw_data.copy(), missingness_percentage)\n",
    "\n",
    "        # Perform EM imputation with the specified number of iterations\n",
    "        imputed_data = em_imputation(data_with_missingness, num_iterations)\n",
    "\n",
    "        # Measure the end time for execution time calculation\n",
    "        end_time = time.monotonic()\n",
    "\n",
    "        # Calculate elapsed time in milliseconds\n",
    "        elapsed_time_seconds = end_time - start_time\n",
    "        elapsed_time_ms = elapsed_time_seconds * 1000\n",
    "\n",
    "        # Calculate RMSE and MAE between original and imputed data\n",
    "        rmse = calculate_rmse(original_data, imputed_data)\n",
    "        mae = calculate_mae(original_data, imputed_data)\n",
    "\n",
    "        # Print the results for the current dataset\n",
    "        print(f'Dataset: {filename}')\n",
    "        print(f'Execution time: {elapsed_time_ms} ms')\n",
    "        print(f'RMSE: {rmse}')\n",
    "        print(f'MAE: {mae}')\n",
    "        print(\"=\" * 50)"
   ],
   "metadata": {
    "collapsed": false,
    "pycharm": {
     "name": "#%%\n"
    }
   }
  },
  {
   "cell_type": "code",
   "execution_count": 156,
   "id": "5991288f",
   "metadata": {},
   "outputs": [],
   "source": []
  }
 ],
 "metadata": {
  "kernelspec": {
   "display_name": "Python 3 (ipykernel)",
   "language": "python",
   "name": "python3"
  },
  "language_info": {
   "codemirror_mode": {
    "name": "ipython",
    "version": 3
   },
   "file_extension": ".py",
   "mimetype": "text/x-python",
   "name": "python",
   "nbconvert_exporter": "python",
   "pygments_lexer": "ipython3",
   "version": "3.9.16"
  }
 },
 "nbformat": 4,
 "nbformat_minor": 5
}