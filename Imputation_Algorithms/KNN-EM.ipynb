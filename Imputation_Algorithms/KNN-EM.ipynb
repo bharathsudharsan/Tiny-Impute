{
 "cells": [
  {
   "cell_type": "code",
   "execution_count": 1,
   "id": "ed3dd959",
   "metadata": {},
   "outputs": [],
   "source": [
    "import math\n",
    "import random\n",
    "import time"
   ]
  },
  {
   "cell_type": "code",
   "execution_count": 7,
   "id": "fabc7646",
   "metadata": {},
   "outputs": [],
   "source": [
    "def read_csv(file_name, num_rows_to_read=None):\n",
    "    data = []\n",
    "    with open(file_name, 'r') as f:\n",
    "        lines = f.readlines()[1:]  \n",
    "        for i, line in enumerate(lines):\n",
    "            if num_rows_to_read is not None and i >= num_rows_to_read:\n",
    "                break\n",
    "            row = float(line.strip())\n",
    "            data.append(row)\n",
    "\n",
    "    return data\n",
    "\n",
    "def euclidean_distance(x1, x2):\n",
    "    return abs(x1 - x2)\n",
    "\n",
    "def knn(data, k):\n",
    "    data.sort()\n",
    "    outliers = []\n",
    "    for i in range(len(data)):\n",
    "        distances = [(euclidean_distance(data[i], data[j]), j) for j in range(len(data)) if j != i]\n",
    "        distances.sort(key=lambda x: x[0])\n",
    "        if distances[k-1][0] > threshold:\n",
    "            outliers.append(data[i])\n",
    "\n",
    "    return outliers\n",
    "\n",
    "def remove_outliers(dataset, outliers):\n",
    "    for number in outliers:\n",
    "        while number in dataset:\n",
    "            index = dataset.index(number)\n",
    "            dataset[index] = None"
   ]
  },
  {
   "cell_type": "code",
   "execution_count": 8,
   "id": "aa24db14",
   "metadata": {},
   "outputs": [],
   "source": [
    "def introduce_missingness(data, missingness_percentage):\n",
    "    num_missing = int(len(data) * missingness_percentage / 100)\n",
    "    missing_indices = []\n",
    "    while len(missing_indices) < num_missing:\n",
    "        r = random.randint(0, len(data)-1)\n",
    "        if r not in missing_indices:\n",
    "            missing_indices.append(r)\n",
    "    for i in missing_indices:\n",
    "        data[i] = None\n",
    "    return data\n",
    "\n",
    "def calculate_mean_variance(data, weights):\n",
    "    n = len(data)\n",
    "    mean = sum(w*x for x, w in zip(data, weights)) / n\n",
    "    variance = sum(w*(x-mean)**2 for x, w in zip(data, weights)) / n\n",
    "    return mean, variance\n",
    "\n",
    "def em_imputation(data, num_iterations):\n",
    "    non_missing_data = [x for x in data if x is not None]\n",
    "    mean, variance = calculate_mean_variance(non_missing_data, [1] * len(non_missing_data))\n",
    "\n",
    "    for _ in range(num_iterations):\n",
    "        estimated_data = [x if x is not None else mean for x in data]\n",
    "        mean, variance = calculate_mean_variance(estimated_data, [1] * len(estimated_data))\n",
    "\n",
    "    imputed_data = [x if x is not None else mean for x in data]\n",
    "    return imputed_data"
   ]
  },
  {
   "cell_type": "code",
   "execution_count": 9,
   "id": "7b4ae742",
   "metadata": {},
   "outputs": [],
   "source": [
    "def calculate_rmse(original_data, imputed_data):\n",
    "    n = len(original_data)\n",
    "    squared_errors = [(original - imputed)**2 for original, imputed in zip(original_data, imputed_data)]\n",
    "    mean_squared_error = sum(squared_errors) / n\n",
    "    rmse = math.sqrt(mean_squared_error)\n",
    "    return rmse\n",
    "\n",
    "def calculate_mae(original_data, imputed_data):\n",
    "    n = len(original_data)\n",
    "    absolute_errors = [abs(original - imputed) for original, imputed in zip(original_data, imputed_data)]\n",
    "    mae = sum(absolute_errors) / n\n",
    "    return mae\n",
    "\n",
    "def calculate_mape(original_data, imputed_data):\n",
    "    n = len(original_data)\n",
    "    percentage_errors = [abs((original - imputed) / original) for original, imputed in zip(original_data, imputed_data) if original != 0]\n",
    "    mape = sum(percentage_errors) / len(percentage_errors) * 100\n",
    "    return mape"
   ]
  },
  {
   "cell_type": "code",
   "execution_count": 10,
   "id": "67282d9f",
   "metadata": {},
   "outputs": [],
   "source": [
    "batch_size=20\n",
    "original_data = read_csv('dataset1.csv',batch_size)\n",
    "missingness_percentage=20\n",
    "num_iterations = 50\n",
    "\n",
    "raw_data=original_data\n",
    "start_time = time.monotonic()\n",
    "k = 3\n",
    "threshold = 2.0  \n",
    "outliers = knn(raw_data, k)\n",
    "remove_outliers(raw_data,outliers)\n",
    "\n",
    "data_with_missingness = introduce_missingness(raw_data[:], missingness_percentage)\n",
    "imputed_data = em_imputation(data_with_missingness, num_iterations)\n",
    "\n",
    "end_time = time.monotonic()\n",
    "elapsed_time_seconds = end_time - start_time\n",
    "elapsed_time_ms = elapsed_time_seconds * 1000\n",
    "rmse = calculate_rmse(original_data, imputed_data)\n",
    "mae = calculate_mae(original_data, imputed_data)\n",
    "time=elapsed_time_ms"
   ]
  },
  {
   "cell_type": "code",
   "execution_count": 11,
   "id": "6791457e",
   "metadata": {},
   "outputs": [
    {
     "name": "stdout",
     "output_type": "stream",
     "text": [
      "Execution time: 0.0\n",
      "RMSE: 0.0061015440244278655\n",
      "MAE: 0.0025265437499999875\n"
     ]
    }
   ],
   "source": [
    "print(f'Execution time: {time}')\n",
    "print(f'RMSE: {rmse}')\n",
    "print(f'MAE: {mae}')"
   ]
  },
  {
   "cell_type": "code",
   "execution_count": null,
   "id": "5991288f",
   "metadata": {},
   "outputs": [],
   "source": []
  }
 ],
 "metadata": {
  "kernelspec": {
   "display_name": "Python 3 (ipykernel)",
   "language": "python",
   "name": "python3"
  },
  "language_info": {
   "codemirror_mode": {
    "name": "ipython",
    "version": 3
   },
   "file_extension": ".py",
   "mimetype": "text/x-python",
   "name": "python",
   "nbconvert_exporter": "python",
   "pygments_lexer": "ipython3",
   "version": "3.9.16"
  }
 },
 "nbformat": 4,
 "nbformat_minor": 5
}