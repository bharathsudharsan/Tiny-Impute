{
 "cells": [
  {
   "cell_type": "code",
   "execution_count": 1,
   "id": "6fcb6937",
   "metadata": {},
   "outputs": [],
   "source": [
    "import math\n",
    "import random\n",
    "import time"
   ]
  },
  {
   "cell_type": "code",
   "execution_count": 2,
   "id": "1cd459cb",
   "metadata": {},
   "outputs": [],
   "source": [
    "def read_csv(file_name, num_rows_to_read=None):\n",
    "    data = []\n",
    "    with open(file_name, 'r') as f:\n",
    "        lines = f.readlines()[1:]  \n",
    "        for i, line in enumerate(lines):\n",
    "            if num_rows_to_read is not None and i >= num_rows_to_read:\n",
    "                break  \n",
    "\n",
    "            row = float(line.strip())\n",
    "            data.append(row)\n",
    "\n",
    "    return data\n",
    "\n",
    "def calculate_rmse(original_data, imputed_data):\n",
    "    n = len(original_data)\n",
    "    squared_errors = [(original - imputed)**2 for original, imputed in zip(original_data, imputed_data)]\n",
    "    mean_squared_error = sum(squared_errors) / n\n",
    "    rmse = math.sqrt(mean_squared_error)\n",
    "    return rmse\n",
    "\n",
    "def calculate_mae(original_data, imputed_data):\n",
    "    n = len(original_data)\n",
    "    absolute_errors = [abs(original - imputed) for original, imputed in zip(original_data, imputed_data)]\n",
    "    mae = sum(absolute_errors) / n\n",
    "    return mae"
   ]
  },
  {
   "cell_type": "code",
   "execution_count": 3,
   "id": "92989e94",
   "metadata": {},
   "outputs": [],
   "source": [
    "def introduce_missingness(data, missingness_percentage):\n",
    "    num_missing = int(len(data) * missingness_percentage / 100)\n",
    "    missing_indices = []\n",
    "    while len(missing_indices) < num_missing:\n",
    "        r = random.randint(0, len(data)-1)\n",
    "        if r not in missing_indices:\n",
    "            missing_indices.append(r)\n",
    "    for i in missing_indices:\n",
    "        data[i] = 0\n",
    "    return data"
   ]
  },
  {
   "cell_type": "code",
   "execution_count": 4,
   "id": "479afab1",
   "metadata": {},
   "outputs": [],
   "source": [
    "def moving_average(data, window_size):\n",
    "    return [sum([x for x in data[i:i+window_size] if x != 0])/window_size for i in range(len(data) - window_size + 1)]\n",
    "\n",
    "def standard_deviation(data, window_size):\n",
    "    avg = moving_average(data, window_size)\n",
    "    variance = [sum([(x - avg[i])**2 for x in data[i:i+window_size] if x != 0])/window_size for i in range(len(data) - window_size + 1)]\n",
    "    return [var**0.5 for var in variance]\n",
    "\n",
    "def detect_outliers(data, window_size, z_thresh):\n",
    "    outliers = []\n",
    "    avg = moving_average(data, window_size)\n",
    "    std_dev = standard_deviation(data, window_size)\n",
    "    \n",
    "    for i in range(len(data) - window_size + 1):\n",
    "        if data[i + window_size - 1] != 0 and abs(data[i + window_size - 1] - avg[i]) > z_thresh * std_dev[i]:\n",
    "            outliers.append(i + window_size - 1)\n",
    "            data[i + window_size - 1] = 0\n",
    "    return outliers"
   ]
  },
  {
   "cell_type": "code",
   "execution_count": 5,
   "id": "19c83316",
   "metadata": {},
   "outputs": [],
   "source": [
    "def SLR_impute(data):\n",
    "    known_data = [(i, d) for i, d in enumerate(data) if d != 0]\n",
    "    missing_indices = [i for i, d in enumerate(data) if d == 0]\n",
    "\n",
    "    if not known_data or not missing_indices:\n",
    "        return data\n",
    "\n",
    "    x_known, y_known = zip(*known_data)\n",
    "\n",
    "    # Compute coefficients for linear regression\n",
    "    n = len(x_known)\n",
    "    m_x, m_y = sum(x_known) / n, sum(y_known) / n\n",
    "    ss_xy = sum(y_known[i] * x_known[i] for i in range(n)) - n * m_y * m_x\n",
    "    ss_xx = sum(x_known[i] * x_known[i] for i in range(n)) - n * m_x * m_x\n",
    "    b_1 = ss_xy / ss_xx\n",
    "    b_0 = m_y - b_1 * m_x\n",
    "\n",
    "    for i in missing_indices:\n",
    "        data[i] = b_0 + b_1 * i\n",
    "\n",
    "    return data"
   ]
  },
  {
   "cell_type": "code",
   "execution_count": 6,
   "id": "0baf190f",
   "metadata": {},
   "outputs": [],
   "source": [
    "batch_size=20\n",
    "original_data = read_csv('dataset1.csv',batch_size)\n",
    "missingness_percentage=20\n",
    "raw_data = introduce_missingness(original_data[:], missingness_percentage)\n",
    "start_time = time.monotonic()\n",
    "data = [float(item) for item in raw_data]\n",
    "window_size = 5\n",
    "z_thresh = 2\n",
    "outliers = detect_outliers(data, window_size, z_thresh)\n",
    "imputed_data = SLR_impute(data)\n",
    "end_time = time.monotonic()\n",
    "elapsed_time_seconds = end_time - start_time\n",
    "elapsed_time_ms = elapsed_time_seconds * 1000\n",
    "rmse = calculate_rmse(original_data, imputed_data)\n",
    "mae = calculate_mae(original_data, imputed_data)\n",
    "time=elapsed_time_ms"
   ]
  },
  {
   "cell_type": "code",
   "execution_count": 7,
   "id": "52b52da8",
   "metadata": {},
   "outputs": [
    {
     "name": "stdout",
     "output_type": "stream",
     "text": [
      "Execution time: 0.0\n",
      "RMSE: 0.11582408921292103\n",
      "MAE: 0.04079530111386163\n"
     ]
    }
   ],
   "source": [
    "print(f'Execution time: {time}')\n",
    "print(f'RMSE: {rmse}')\n",
    "print(f'MAE: {mae}')"
   ]
  },
  {
   "cell_type": "code",
   "execution_count": null,
   "id": "321120cf",
   "metadata": {},
   "outputs": [],
   "source": []
  }
 ],
 "metadata": {
  "kernelspec": {
   "display_name": "Python 3 (ipykernel)",
   "language": "python",
   "name": "python3"
  },
  "language_info": {
   "codemirror_mode": {
    "name": "ipython",
    "version": 3
   },
   "file_extension": ".py",
   "mimetype": "text/x-python",
   "name": "python",
   "nbconvert_exporter": "python",
   "pygments_lexer": "ipython3",
   "version": "3.9.16"
  }
 },
 "nbformat": 4,
 "nbformat_minor": 5
}
